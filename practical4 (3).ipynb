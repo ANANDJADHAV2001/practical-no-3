{
  "nbformat": 4,
  "nbformat_minor": 0,
  "metadata": {
    "colab": {
      "name": "practical4.ipynb",
      "provenance": []
    },
    "kernelspec": {
      "name": "python3",
      "display_name": "Python 3"
    },
    "language_info": {
      "name": "python"
    }
  },
  "cells": [
    {
      "cell_type": "markdown",
      "source": [
        "write a program to perform different arithmetic operations on number in python. "
      ],
      "metadata": {
        "id": "p_TIZNLOTPTP"
      }
    },
    {
      "cell_type": "code",
      "source": [
        "num1 = float(input(\" Please Enter the First Value Number 1: \"))\n",
        "num2 = float(input(\" Please Enter the Second Value Number 2: \"))\n",
        "\n",
        "# Add Two Numbers\n",
        "add = num1 + num2\n",
        "\n",
        "# Subtracting num2 from num1\n",
        "sub = num1 - num2\n",
        "\n",
        "# Multiply num1 with num2\n",
        "multi = num1 * num2\n",
        "\n",
        "# Divide num1 by num2\n",
        "div = num1 / num2\n",
        "\n",
        "# Modulus of num1 and num2\n",
        "mod = num1 % num2\n",
        "\n",
        "# Exponent of num1 and num2\n",
        "expo = num1 ** num2\n",
        "\n",
        "print(\"The Sum of {0} and {1} = {2}\".format(num1, num2, add))\n",
        "print(\"The Subtraction of {0} from {1} = {2}\".format(num2, num1, sub))\n",
        "print(\"The Multiplication of {0} and {1} = {2}\".format(num1, num2, multi))\n",
        "print(\"The Division of {0} and {1} = {2}\".format(num1, num2, div))\n",
        "print(\"The Modulus of {0} and {1} = {2}\".format(num1, num2, mod))\n",
        "print(\"The Exponent Value of {0} and {1} = {2}\".format(num1, num2, expo))"
      ],
      "metadata": {
        "colab": {
          "base_uri": "https://localhost:8080/"
        },
        "id": "65HoHj9fiJ2C",
        "outputId": "20417159-a73b-4c62-d580-f67ac1a4b208"
      },
      "execution_count": 19,
      "outputs": [
        {
          "output_type": "stream",
          "name": "stdout",
          "text": [
            " Please Enter the First Value Number 1: 1\n",
            " Please Enter the Second Value Number 2: 2\n",
            "The Sum of 1.0 and 2.0 = 3.0\n",
            "The Subtraction of 2.0 from 1.0 = -1.0\n",
            "The Multiplication of 1.0 and 2.0 = 2.0\n",
            "The Division of 1.0 and 2.0 = 0.5\n",
            "The Modulus of 1.0 and 2.0 = 1.0\n",
            "The Exponent Value of 1.0 and 2.0 = 1.0\n"
          ]
        }
      ]
    }
  ]
}